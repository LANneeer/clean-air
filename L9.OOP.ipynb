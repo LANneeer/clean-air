{
 "cells": [
  {
   "cell_type": "code",
   "execution_count": 67,
   "id": "b99a9eab-9ef8-43c9-b891-876d718a212c",
   "metadata": {},
   "outputs": [],
   "source": [
    "locations = ['Almaty', 'Aktau', 'Astana', 'Shymkent', 'Karaganda']"
   ]
  },
  {
   "cell_type": "code",
   "execution_count": 68,
   "id": "1142c4aa-3767-4dec-8eed-301121270238",
   "metadata": {},
   "outputs": [],
   "source": [
    "class Car:\n",
    "    def __init__(self, color: str, loc: locations, owner: str):\n",
    "        self.color = color\n",
    "        self.loc = loc\n",
    "        self.owner = owner\n",
    "    \n",
    "    def __str__(self):\n",
    "        return f'color: {self.color}; location: {self.loc}; owner: {self.owner}'\n",
    "    \n",
    "    def change_location(self, new_loc: locations) -> None:\n",
    "        self.loc = new_loc\n",
    "    \n",
    "    def change_owner(self, new_owner: str) -> None:\n",
    "        self.owner = new_owner\n",
    "    "
   ]
  },
  {
   "cell_type": "code",
   "execution_count": 69,
   "id": "dd3ce5ec-1705-4154-b8ca-c0d3da50e5a3",
   "metadata": {},
   "outputs": [
    {
     "name": "stdout",
     "output_type": "stream",
     "text": [
      "color: red; location: Almaty; owner: Temirlan\n",
      "color: red; location: Aktau; owner: Aset\n"
     ]
    }
   ],
   "source": [
    "car = Car(color='red', loc=locations[0], owner='Temirlan')\n",
    "print(car)\n",
    "car.change_location(new_loc=locations[1])\n",
    "car.change_owner('Aset')\n",
    "print(car)"
   ]
  },
  {
   "cell_type": "code",
   "execution_count": 70,
   "id": "faa37841-6fa5-41e5-a2c2-6440f7f2dae0",
   "metadata": {},
   "outputs": [],
   "source": [
    "class Truck(Car):\n",
    "    def __init__(self, color: str, loc: locations, owner: str, load_capacity: int):\n",
    "        super().__init__(color=color, loc=loc, owner=owner)\n",
    "        self.load_capacity = load_capacity\n",
    "    \n",
    "    def __str__(self):\n",
    "        return f'color: {self.color}; location: {self.loc}; owner: {self.owner}; load capacity: {self.load_capacity}kg'\n",
    "    \n",
    "    def change_location(self, new_loc: locations, cargo: int = 0) -> None:\n",
    "        self.loc = new_loc\n",
    "        self.cargo = cargo\n",
    "    \n",
    "    def show_cargo(self) -> int:\n",
    "        return getattr(self, 'cargo', None)"
   ]
  },
  {
   "cell_type": "code",
   "execution_count": 71,
   "id": "6c24a295-99bc-4523-a0bf-4f04d0b23984",
   "metadata": {},
   "outputs": [
    {
     "name": "stdout",
     "output_type": "stream",
     "text": [
      "color: red; location: Aktau; owner: Aset\n",
      "color: red; location: Aktau; owner: Aset; load capacity: 100kg\n",
      "10\n"
     ]
    }
   ],
   "source": [
    "truck = Truck(color='red', loc=locations[0], owner='Temirlan', load_capacity=100)\n",
    "print(car)\n",
    "truck.change_location(new_loc=locations[1], cargo=10)\n",
    "truck.change_owner('Aset')\n",
    "print(truck)\n",
    "print(truck.show_cargo())"
   ]
  },
  {
   "cell_type": "code",
   "execution_count": 72,
   "id": "c56c4208-13af-4a79-a7b5-24859b0bb3e2",
   "metadata": {},
   "outputs": [],
   "source": [
    "class Bus(Car):\n",
    "    def __init__(self, color: str, loc: locations, owner: str, passengers_qty: int = 0):\n",
    "        super().__init__(color=color, loc=loc, owner=owner)\n",
    "        self.passengers_qty = passengers_qty\n",
    "    \n",
    "    def __str__(self):\n",
    "        return f'color: {self.color}; location: {self.loc}; owner: {self.owner}; passengers qty: {self.passengers_qty}'\n",
    "    \n",
    "    def change_location(self, new_loc: locations, passengers_qty: int = 0) -> None:\n",
    "        self.loc = new_loc\n",
    "        self.passengers_qty = passengers_qty\n",
    "    \n",
    "    def show_passengers(self) -> int:\n",
    "        return getattr(self, 'passengers_qty', None)"
   ]
  },
  {
   "cell_type": "code",
   "execution_count": 73,
   "id": "d4482e4a-8fa7-445a-9b75-95015b4ed114",
   "metadata": {},
   "outputs": [
    {
     "name": "stdout",
     "output_type": "stream",
     "text": [
      "color: red; location: Almaty; owner: Temirlan; passengers qty: 10\n",
      "color: red; location: Aktau; owner: Aset; passengers qty: 20\n",
      "20\n"
     ]
    }
   ],
   "source": [
    "bus = Bus(color='red', loc=locations[0], owner='Temirlan', passengers_qty=10)\n",
    "print(bus)\n",
    "bus.change_location(new_loc=locations[1], passengers_qty=20)\n",
    "bus.change_owner('Aset')\n",
    "print(bus)\n",
    "print(bus.show_passengers())"
   ]
  },
  {
   "cell_type": "code",
   "execution_count": null,
   "id": "55d1957c-8b26-4bd0-832f-16177b0b0bb9",
   "metadata": {},
   "outputs": [],
   "source": []
  }
 ],
 "metadata": {
  "kernelspec": {
   "display_name": "Python 3 (ipykernel)",
   "language": "python",
   "name": "python3"
  },
  "language_info": {
   "codemirror_mode": {
    "name": "ipython",
    "version": 3
   },
   "file_extension": ".py",
   "mimetype": "text/x-python",
   "name": "python",
   "nbconvert_exporter": "python",
   "pygments_lexer": "ipython3",
   "version": "3.9.13"
  }
 },
 "nbformat": 4,
 "nbformat_minor": 5
}
